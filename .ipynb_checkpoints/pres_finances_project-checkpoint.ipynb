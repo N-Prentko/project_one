{
 "cells": [
  {
   "cell_type": "markdown",
   "metadata": {},
   "source": [
    "# Campaign Finances in the 2016 and 2020 Presidential Elections\n",
    "## Megan Chang, Dan Edie, and Nicholas Prentkowski"
   ]
  },
  {
   "cell_type": "markdown",
   "metadata": {},
   "source": [
    "It is no secret that the cost of running for the office of President of the United States has increased over the past few election cylces. But how much? Are the most populous states contributing the most money? Our group used the Federal Election Commission's API in order to pull data on campaign receipts, as well as the number of votes each candidate received, stored in MIT's Election Lab database. We found that the current election has already raised about twice as much as the previous election, though that is due to contributions by two specific candidates on the Democratic ticket.\n",
    "\n",
    "Because the FEC API only returned data for the 2016 and 2020 Presidential bids, we focused specifically on these two elections, noting that the 2020 election is currently ongoing."
   ]
  },
  {
   "cell_type": "markdown",
   "metadata": {},
   "source": [
    "### Part I: How Much Money Did Each Candidate Raise in the 2016 Election?\n",
    "#### Dan Edie"
   ]
  },
  {
   "cell_type": "markdown",
   "metadata": {},
   "source": [
    "The FEC API can return the net receipts for a Presidential campaign. Net receipts are described as the amount of money a campaign has to spend, the \"war chest\" as sometimes described on the media.\n",
    "\n",
    "Each candidate that files to run for the Office of President is included in the FEC commission API, even if the candidate does not actively campaign."
   ]
  },
  {
   "cell_type": "code",
   "execution_count": 1,
   "metadata": {},
   "outputs": [
    {
     "ename": "ModuleNotFoundError",
     "evalue": "No module named 'config'",
     "output_type": "error",
     "traceback": [
      "\u001b[1;31m---------------------------------------------------------------------------\u001b[0m",
      "\u001b[1;31mModuleNotFoundError\u001b[0m                       Traceback (most recent call last)",
      "\u001b[1;32m<ipython-input-1-13682400f081>\u001b[0m in \u001b[0;36m<module>\u001b[1;34m\u001b[0m\n\u001b[0;32m      9\u001b[0m \u001b[1;32mimport\u001b[0m \u001b[0msys\u001b[0m\u001b[1;33m\u001b[0m\u001b[1;33m\u001b[0m\u001b[0m\n\u001b[0;32m     10\u001b[0m \u001b[0msys\u001b[0m\u001b[1;33m.\u001b[0m\u001b[0mpath\u001b[0m\u001b[1;33m.\u001b[0m\u001b[0minsert\u001b[0m\u001b[1;33m(\u001b[0m\u001b[1;36m0\u001b[0m\u001b[1;33m,\u001b[0m \u001b[1;34m\"/Users/Iceda/OneDrive/Desktop/ClassHomework/keys\"\u001b[0m\u001b[1;33m)\u001b[0m\u001b[1;33m\u001b[0m\u001b[1;33m\u001b[0m\u001b[0m\n\u001b[1;32m---> 11\u001b[1;33m \u001b[1;32mfrom\u001b[0m \u001b[0mconfig\u001b[0m \u001b[1;32mimport\u001b[0m \u001b[0mfec_key\u001b[0m\u001b[1;33m\u001b[0m\u001b[1;33m\u001b[0m\u001b[0m\n\u001b[0m",
      "\u001b[1;31mModuleNotFoundError\u001b[0m: No module named 'config'"
     ]
    }
   ],
   "source": [
    "# Dependencies\n",
    "import pandas as pd\n",
    "import numpy as np\n",
    "import requests\n",
    "import json\n",
    "import matplotlib as plt\n",
    "\n",
    "# FEC API Key\n",
    "import sys\n",
    "sys.path.insert(0, \"/Users/Iceda/OneDrive/Desktop/ClassHomework/keys\")\n",
    "from config import fec_key"
   ]
  },
  {
   "cell_type": "code",
   "execution_count": null,
   "metadata": {},
   "outputs": [],
   "source": [
    "# Study data files\n",
    "presidential_votes_path = \"1976-2016-president.csv\"\n",
    "\n",
    "# Read the presidential votes csv\n",
    "presidential_votes_data = pd.read_csv(presidential_votes_path)"
   ]
  },
  {
   "cell_type": "code",
   "execution_count": null,
   "metadata": {},
   "outputs": [],
   "source": [
    "# url to return presidential contributions received per candidate\n",
    "cand_url = 'https://api.open.fec.gov/v1/presidential/contributions/by_candidate/'\n",
    "\n",
    "# set the amount of data to be returned per page. Must be under 100\n",
    "per_page = 50\n",
    "election_year = '2016'\n",
    "\n",
    "# params to pass into the url\n",
    "params = {'api_key' : fec_key,\n",
    "         'election_year' : election_year,\n",
    "         'per_page' : per_page}\n",
    "\n",
    "# first json request to get the number of pages to loop through\n",
    "cand_search = requests.get(cand_url, params=params).json()\n",
    "\n",
    "# stores the number of pages the search returns\n",
    "page_nums = cand_search['pagination']['pages']\n",
    "\n",
    "# print out the json return for use in extracting data\n",
    "# print(json.dumps(cand_search, indent=4))"
   ]
  },
  {
   "cell_type": "code",
   "execution_count": null,
   "metadata": {},
   "outputs": [],
   "source": [
    "# creating lists to store the data to pass to a dataframe\n",
    "id_list = []\n",
    "net_rec_list = []\n",
    "contr_state_list = []\n",
    "can_last_name = []\n",
    "can_party = []\n",
    "\n",
    "# loops through how many pages the data has returned. This is dependent on the number of results\n",
    "# per page set before\n",
    "for page in range(1, page_nums):\n",
    "    params['page'] = page\n",
    "    cand_data = requests.get(cand_url, params=params)\n",
    "    cand_data = cand_data.json()\n",
    "    \n",
    "    # loop through however many results there will be per page and append the lists with data\n",
    "    for result in range(0, per_page):\n",
    "        try:\n",
    "            id_list.append(cand_data['results'][result]['candidate_id'])\n",
    "            net_rec_list.append(cand_data['results'][result]['rounded_net_receipts'])\n",
    "            contr_state_list.append(cand_data['results'][result]['contributor_state'])\n",
    "            can_last_name.append(cand_data['results'][result]['candidate_last_name'])\n",
    "            can_party.append(cand_data['results'][result]['candidate_party_affiliation'])\n",
    "            print(\"Data appended\")\n",
    "        except:\n",
    "            print(\"Data out of range/not found...\")"
   ]
  },
  {
   "cell_type": "code",
   "execution_count": null,
   "metadata": {},
   "outputs": [],
   "source": [
    "# creating the dataframe and populating it\n",
    "pres_finance = pd.DataFrame({'candidate_id' : id_list,\n",
    "                             'candidate_party' : can_party,\n",
    "                             'candidate_last_name' : can_last_name,\n",
    "                            'rounded_net_receipts' : net_rec_list,\n",
    "                           'contributor_state' : contr_state_list})\n",
    "pres_finance.to_csv(\"output/pres_finance_data.csv\", index = False)\n",
    "pres_finance"
   ]
  },
  {
   "cell_type": "code",
   "execution_count": null,
   "metadata": {},
   "outputs": [],
   "source": [
    "# load the dataframe as needed\n",
    "pres_finance = pd.read_csv('output/pres_finance_data.csv')\n",
    "pres_finance"
   ]
  },
  {
   "cell_type": "code",
   "execution_count": null,
   "metadata": {},
   "outputs": [],
   "source": [
    "# focusing only on the national totals. If state = US, then that is national\n",
    "total_election = pres_finance.loc[pres_finance['contributor_state'] == 'US']\n",
    "total_election"
   ]
  },
  {
   "cell_type": "markdown",
   "metadata": {},
   "source": [
<<<<<<< HEAD
    "The dataframe above shows the overall totals of money raised during the 2016 presidential election. The first row is the total monies raised for the entire election, across all party lines. Rounded Net receipts is a dollar value given in millions of dollars. Thus, the overall monies raised for the election was \\\\$1,462,300,000. We see from that total Democratic candidates raised \\\\$799,400,000, while Republican candidates raised \\\\$639,100,000. We see that the next overall spenders were Hillary Clinton and Donald Trump, and this makes sense: they were the candidates who one their primaries, so they spent money to fight for vistory during the general election."
=======
    "The dataframe above shows the overall totals of money raised during the 2016 presidential election. The first row is the total amount raised during the entire election across all party lines. Rounded Net receipts is a dollar value given in millions of dollars. Thus, the overall amount raised for the 2016 election was \\\\$1,462,300,000. We see from that total Democratic candidates raised \\\\$799,400,000, while Republican candidates raised \\\\$639,100,000. We see that Hillary Clinton and Donald Trump had the most money, and this makes sense: they were the candidates, so they had the entire election cycle to raise money beyond the primaries."
>>>>>>> 0835fc92c9b0fdaa919a5c83232963a2ea6053ed
   ]
  },
  {
   "cell_type": "code",
   "execution_count": null,
   "metadata": {},
   "outputs": [],
   "source": [
    "# now pulling the democratic receipts for 2016 election\n",
    "total_dem = pres_finance.loc[pres_finance['candidate_party'] == 'DEM']\n",
    "overall_total_dem = total_dem.loc[total_dem['contributor_state'] == 'US']\n",
    "overall_total_dem"
   ]
  },
  {
   "cell_type": "markdown",
   "metadata": {},
   "source": [
<<<<<<< HEAD
    "We see the total amount of money raised by each Democratic candidate, both overall and for each candidate separately. Notice that the two major candidates, Hillary Clinton and Bernie Sanders, raised the highest amount, and Hillary Clinton, as the overall candidate, obviously raised more money as the nominee. The data gives a clear picture how long each candidate lasted: O'Malley suspended his campaign in early 2016 after failing to gain traction in Iowa, while the Lessig and Webb campaigns didn't last past 2015."
=======
    "We see the total amount of money raised by each Democratic candidate, both overall and for each candidate separately. Notice that the two major candidates, Hillary Clinton and Bernie Sanders, raised the highest amount, and Hillary Clinton, as the overall candidate, obviously raised more money as the nominee. The data gives a clear picture how long each candidate lasted: O'Malley suspended his campaign in early 2016 after failing to gain traction in Iowa, while the Lessig and Webb campaigns didn't last past 2015, thus their campaigns raised far less money."
>>>>>>> 0835fc92c9b0fdaa919a5c83232963a2ea6053ed
   ]
  },
  {
   "cell_type": "code",
   "execution_count": null,
   "metadata": {},
   "outputs": [],
   "source": [
    "# creating a plot for overall receipts each dem candidate got in 2016\n",
    "dem_overall = total_dem.loc[(total_dem['contributor_state'] == 'US') & \n",
    "                                (total_dem['candidate_last_name'] != 'Democrats')]\n",
    "dem_overall.plot(x = 'candidate_last_name', y = 'rounded_net_receipts', kind = 'bar', figsize=(12, 6),\n",
    "                  title= 'Rounded Net Receipts for Democratic Presidential Candidates in 2016',\n",
    "                  legend=False, fontsize=12, rot=45)\n",
    "plt.pyplot.ylabel(\"Rounded Net Receipts (in millions)\", fontsize=12)\n",
    "plt.pyplot.xlabel(\"Presidential Candidate\", fontsize=12)\n",
    "plt.pyplot.savefig('output/dem_net_receipts.png')"
   ]
  },
  {
   "cell_type": "markdown",
   "metadata": {},
   "source": [
    "The plot above shows the overall cash Democratic candidates raised in the 2016 election. Bernie Sanders was Hillary Clinton's main challenger during the primary, and lasted longest against her. Martin O'Malley suspended his campaign after the first primary in Iowa, and the remaining two candidates, Lawrence Lessig and Jim Webb, each ended their campaigns in 2015."
   ]
  },
  {
   "cell_type": "code",
   "execution_count": null,
   "metadata": {},
   "outputs": [],
   "source": [
    "# now the total receipts for the Republican party in 2016\n",
    "total_repub = pres_finance.loc[pres_finance['candidate_party'] == 'REP']\n",
    "overall_tot_repub = total_repub.loc[total_repub['contributor_state'] == 'US']\n",
    "overall_tot_repub"
   ]
  },
  {
   "cell_type": "markdown",
   "metadata": {},
   "source": [
    "Republicans had a crowded primary in the 2016 election with 17 candidates filing for the election. Unlike the Democratic data, the Republican primary was highly contentious and the amount each candidate raised does not match when they dropped out of the race. For example, the last candidate to drop was John Kasich. Ben Carson suspended his campaign before Jeb Bush, and both of them had suspended before the convention."
   ]
  },
  {
   "cell_type": "code",
   "execution_count": null,
   "metadata": {},
   "outputs": [],
   "source": [
    "# plotting overall Republican receipts\n",
    "repub_overall = total_repub.loc[(total_repub['contributor_state'] == 'US') & \n",
    "                                (total_repub['candidate_last_name'] != 'Republicans')]\n",
    "repub_overall.plot(x = 'candidate_last_name', y = 'rounded_net_receipts', kind='bar', figsize=(12, 6),\n",
    "                  title= 'Rounded Net Receipts for Republican Presidential Candidates in 2016',\n",
    "                  legend=False, color='Red', fontsize=12)\n",
    "plt.pyplot.ylabel(\"Rounded Net Receipts (in millions)\", fontsize=12)\n",
    "plt.pyplot.xlabel(\"Presidential Candidate\", fontsize=12)\n",
    "plt.pyplot.savefig('output/repub_net_receipts.png')"
   ]
  },
  {
   "cell_type": "markdown",
   "metadata": {},
   "source": [
<<<<<<< HEAD
    "The plot above shows us the net receipts for each Republican candidate. The nominee, Donald Trump, raised far more money, as we expect. We see that Trump managed to spend more than three times the amount than his fellow candidates, which is slightly more of a difference than Clinton spent versus Sanders."
=======
    "The plot above shows us the net receipts for each Republican candidate. The nominee, Donald Trump, raised far more money as we expect. We see that Trump managed to raise more than three times the amount than his fellow candidates, which is slightly more of a difference than the amount Clinton raised versus Sanders."
>>>>>>> 0835fc92c9b0fdaa919a5c83232963a2ea6053ed
   ]
  },
  {
   "cell_type": "code",
   "execution_count": null,
   "metadata": {},
   "outputs": [],
   "source": [
    "# last, getting the receipts for Independent candidates\n",
    "total_ind = pres_finance.loc[(pres_finance['candidate_party'] != 'DEM') &\n",
    "                            (pres_finance['candidate_party'] != 'REP')]\n",
    "total_ind = total_ind.dropna()\n",
    "overall_total_ind = total_ind.loc[total_ind['contributor_state'] == 'US']\n",
    "overall_total_ind"
   ]
  },
  {
   "cell_type": "markdown",
   "metadata": {},
   "source": [
    "How did candidates who ran as independents fair? We see that both Gary Johnson and Jill Stein did nominally well, each raising \\\\$11 and \\\\$10 million dollars, respectively. This is more than twelve other candidates in the major parties, though those candidates had dropped from their races early on in the election cycle."
   ]
  },
  {
   "cell_type": "code",
   "execution_count": null,
   "metadata": {},
   "outputs": [],
   "source": [
    "# Plotting the major party receipts in 2016\n",
    "ax = total_election.iloc[1:3].plot(y='rounded_net_receipts', kind='bar', legend = False, rot=45, \n",
    "                                   title='Total Receipts of Major Parties in the 2016 Presidential Election',\n",
    "                                  figsize = (12,8), fontsize=12, color=['Blue', 'Red'])\n",
    "plt.pyplot.ylabel(\"Rounded Net Receipts (in millions)\", fontsize=12)\n",
    "ax.set_xticklabels(['Democrats', 'Republicans'])\n",
    "plt.pyplot.savefig('output/maj_party_receipts_2016.png')"
   ]
  },
  {
   "cell_type": "markdown",
   "metadata": {},
   "source": [
    "Looking at the overall money raised by the major parties, we see the Democratic party was able to collect more money than the Republican party by about \\\\$200 million dollars. With the outcome of the election, it is not always the case where the party that spends more money wins the election. It should be noted, however, that Hillary Clinton did win the popular vote versus the electoral college."
   ]
  },
  {
   "cell_type": "markdown",
   "metadata": {},
   "source": [
    "## What is the Current State of Spending in the 2020 Election?"
   ]
  },
  {
   "cell_type": "markdown",
   "metadata": {},
   "source": [
    "Has the amount of money each party has raised stayed more or less consistent during the 2020 Election? We would assume that the Democratic party would be trying to collect more money at this point since Trump is the incumbent, but what are the current totals? Notably, there are two Democratic candidates that ran who are billionares. How have they impacted the net receipts?"
   ]
  },
  {
   "cell_type": "code",
   "execution_count": null,
   "metadata": {},
   "outputs": [],
   "source": [
    "# first json request to get the number of pages to loop through\n",
    "cand_search = requests.get(cand_url, params=params).json()\n",
    "\n",
    "# changing to the 2020 election and reloading the parameters accordingly\n",
    "election_year = '2020'\n",
    "\n",
    "params = {'api_key' : fec_key,\n",
    "         'election_year' : election_year,\n",
    "         'per_page' : per_page}\n",
    "\n",
    "# stores the number of pages the search returns\n",
    "page_nums = cand_search['pagination']['pages']\n",
    "\n",
    "# print(json.dumps(cand_search, indent=4))"
   ]
  },
  {
   "cell_type": "code",
   "execution_count": null,
   "metadata": {},
   "outputs": [],
   "source": [
    "# creating lists to store the data to pass to a dataframe\n",
    "id_list = []\n",
    "net_rec_list = []\n",
    "contr_state_list = []\n",
    "can_last_name = []\n",
    "can_party = []\n",
    "\n",
    "# loops through how many pages the data has returned. This is dependent on the number of results\n",
    "# per page set before\n",
    "for page in range(1, current_page_nums):\n",
    "    params['page'] = page\n",
    "    cand_data = requests.get(cand_url, params=params)\n",
    "    cand_data = cand_data.json()\n",
    "    \n",
    "    # loop through however many results there will be per page and append the lists with data\n",
    "    for result in range(0, per_page):\n",
    "        try:\n",
    "            id_list.append(cand_data['results'][result]['candidate_id'])\n",
    "            net_rec_list.append(cand_data['results'][result]['rounded_net_receipts'])\n",
    "            contr_state_list.append(cand_data['results'][result]['contributor_state'])\n",
    "            can_last_name.append(cand_data['results'][result]['candidate_last_name'])\n",
    "            can_party.append(cand_data['results'][result]['candidate_party_affiliation'])\n",
    "            print(\"Data appended\")\n",
    "        except:\n",
    "            print(\"Data out of range/not found...\")"
   ]
  },
  {
   "cell_type": "code",
   "execution_count": null,
   "metadata": {},
   "outputs": [],
   "source": [
    "# creating a dataframe of 2020 candidates and their spending\n",
    "pres_finance_current = pd.DataFrame({'candidate_id' : id_list,\n",
    "                             'candidate_party' : can_party,\n",
    "                             'candidate_last_name' : can_last_name,\n",
    "                            'rounded_net_receipts' : net_rec_list,\n",
    "                           'contributor_state' : contr_state_list})\n",
    "pres_finance_current.to_csv(\"output/pres_finance_data_2020.csv\", index = False)\n",
    "pres_finance_current"
   ]
  },
  {
   "cell_type": "code",
   "execution_count": null,
   "metadata": {},
   "outputs": [],
   "source": [
    "# load the dataframe as needed\n",
    "pres_finance_current = pd.read_csv('output/pres_finance_data_2020.csv')\n",
    "pres_finance_current"
   ]
  },
  {
   "cell_type": "code",
   "execution_count": null,
   "metadata": {},
   "outputs": [],
   "source": [
    "# getting total receipts so far in the 2020 Election\n",
    "total_current_election = pres_finance_current.loc[pres_finance_current['contributor_state'] == 'US']\n",
    "total_current_election"
   ]
  },
  {
   "cell_type": "markdown",
   "metadata": {},
   "source": [
    "The major takeaway from the dataframe is the current total amount of money raised: \\\\$2,476,100,000, which is currently about 1.7 times the amount raised in 2016. The next major takeaway is Michael Bloomberg and the amount of funding his campaign had: as of this report \\\\$1,049,400,000, which by itself is nearly the amount of the 2016 election by itself. Note, however, Bloomberg has dropped out of the race, and any further money he is reporting is to help the current presumptive nominee, Joe Biden.\n",
    "\n",
    "In fact, Bloomberg and Tom Steyer have both raised more money than the Republican party. As the incumbent party, though, the Republican party has not needed to gather as much money on the campaign yet. As we move closer to November, this dollar amount should increase dramatically if it is comparable to the Democratic fundraising. Of course, it is impossible to predict anything with the spread of COVID-19."
   ]
  },
  {
   "cell_type": "code",
   "execution_count": null,
   "metadata": {},
   "outputs": [],
   "source": [
    "# getting overall totals for Dem and Republicans in 2020 election\n",
    "# had to snip since Bloomberg and Steyer have spent more than the Republicans have\n",
    "current_overall = total_current_election.loc[(total_current_election['candidate_id'] == 'P00000002') | \n",
    "                          (total_current_election['candidate_id'] == 'P00000003')]"
   ]
  },
  {
   "cell_type": "code",
   "execution_count": null,
   "metadata": {},
   "outputs": [],
   "source": [
    "# plotting the major party spending in 2020\n",
    "ax2 = current_overall.plot(y='rounded_net_receipts', kind='bar', legend = False, rot=45, \n",
    "                                   title='Current Total Receipts of Major Parties in the 2020 Presidential Election',\n",
    "                                  figsize = (12,8), fontsize=12, color=['Blue', 'Red'])\n",
    "plt.pyplot.ylabel(\"Rounded Net Receipts (in millions)\", fontsize=12)\n",
    "ax2.set_xticklabels(['Democrats', 'Republicans'])\n",
    "plt.pyplot.savefig('output/maj_party_receipts_2020.png')"
   ]
  },
  {
   "cell_type": "markdown",
   "metadata": {},
   "source": [
    "The above plot shows how dramatic the difference in net receipts reported in the 2020 election is between the two major parties. Democrats have out-raised the Republican party nearly eleven-to-one. "
   ]
  },
  {
   "cell_type": "code",
   "execution_count": null,
   "metadata": {},
   "outputs": [],
   "source": [
    "# getting 2020 dem totals\n",
    "current_dem = total_current_election.loc[total_current_election['candidate_party'] == 'DEM']\n",
    "current_dem"
   ]
  },
  {
   "cell_type": "markdown",
   "metadata": {},
   "source": [
    "Like the Republicans in 2016, the Democrats had a large number of candidates file to run in the primary. Some of these names might not seem familiar. The FEC keeps data on any candidate who files for an election, whether they actually end up running or not. That was the case for Richard Ojeda, who filed to run for President, but dropped out in late 2019."
   ]
  },
  {
   "cell_type": "code",
   "execution_count": null,
   "metadata": {},
   "outputs": [],
   "source": [
    "other_dems = current_dem.loc[current_dem['rounded_net_receipts'] < 1]\n",
    "other_dems"
   ]
  },
  {
   "cell_type": "markdown",
   "metadata": {},
   "source": [
    "In fact, we see that these four candidates each raised less than one million dollars, combined."
   ]
  },
  {
   "cell_type": "code",
   "execution_count": null,
   "metadata": {},
   "outputs": [],
   "source": [
    "# plotting overall receipts by 2020 dem candidates (cutoff was candidates who raised over 1 mil)\n",
    "current_dem_overall = current_dem.loc[(current_dem['contributor_state'] == 'US') & \n",
    "                                (current_dem['candidate_last_name'] != 'Democrats') &\n",
    "                                     (current_dem['rounded_net_receipts'] > 1)]\n",
    "current_dem_overall.plot(x = 'candidate_last_name', y = 'rounded_net_receipts', kind = 'bar', figsize=(12, 6),\n",
    "                  title= 'Current Rounded Net Receipts for Democratic Presidential Candidates in 2020',\n",
    "                  legend=False, fontsize=12)\n",
    "plt.pyplot.ylabel(\"Rounded Net Receipts (in millions)\", fontsize=12)\n",
    "plt.pyplot.xlabel(\"Presidential Candidate\", fontsize=12)\n",
    "plt.pyplot.savefig('output/current_dem_net_receipts.png')"
   ]
  },
  {
   "cell_type": "markdown",
   "metadata": {},
   "source": [
<<<<<<< HEAD
    "The current spending per Democratic candidate paints a very vivid picture with respect to results. Mike Bloomberg has spent an incredible amount of money, only to suspend his candidacy in late February. Sanders has also outspent Biden, who at the time of this writing is the presumptive nominee. Like the 2016 Republican data, we can't accurately use this to map when the candidates dropped. For example, Kamala Harris ended her campaign before Andrew Yang, but spent slightly more money than he did. Pete Buttigieg ended his campaign well before Amy Klobuchar, but outspent her."
=======
    "The current net receipts per Democratic candidate paints a very vivid picture with respec to results. Mike Bloomberg has put an incredible amount of his own money into his candidacy only to suspend his campaign in late February. Sanders has also raised more money than Biden, who at the time of this writing is the presumptive nominee. Like the 2016 Republican data, we can't accurately use this to map when the candidates dropped. For example, Kamala Harris ended her campaign before Andrew Yang, but raised slightly more money than he did. Pete Buttigieg ended his campaign well before Amy Klobuchar, but ended up raising more money than her."
>>>>>>> 0835fc92c9b0fdaa919a5c83232963a2ea6053ed
   ]
  },
  {
   "cell_type": "code",
   "execution_count": null,
   "metadata": {},
   "outputs": [],
   "source": [
    "# current republican totals in 2020\n",
    "current_total_repub = total_current_election.loc[total_current_election['candidate_party'] == 'REP']\n",
    "current_total_repub"
   ]
  },
  {
   "cell_type": "markdown",
   "metadata": {},
   "source": [
    "The interesting thing to note about the Republican totals is that there are candidates who filed with the FEC to challenge Donald Trump. However, they have collectively raised far less (nearly 100 times less) than Donald Trump has."
   ]
  },
  {
   "cell_type": "code",
   "execution_count": null,
   "metadata": {},
   "outputs": [],
   "source": [
    "# plotting the overall rep totals\n",
    "current_repub_overall = current_total_repub.loc[(current_total_repub['contributor_state'] == 'US') & \n",
    "                                (current_total_repub['candidate_last_name'] != 'Republicans')]\n",
    "current_repub_overall.plot(x = 'candidate_last_name', y = 'rounded_net_receipts', kind='bar', figsize=(12, 6),\n",
    "                  title= 'Current Rounded Net Receipts for Republican Presidential Candidates in 2020',\n",
    "                  legend=False, color='Red', fontsize=12)\n",
    "plt.pyplot.ylabel(\"Rounded Net Receipts (in millions)\", fontsize=12)\n",
    "plt.pyplot.xlabel(\"Presidential Candidate\", fontsize=12)\n",
    "plt.pyplot.savefig('output/current_repub_net_receipts.png')"
   ]
  },
  {
   "cell_type": "markdown",
   "metadata": {},
   "source": [
<<<<<<< HEAD
    "The plot of the above data shows the stark contrast of spending between Donald Trump and the candidates who filed to challenge him for the Republican nomination."
   ]
  },
  {
   "cell_type": "markdown",
   "metadata": {},
   "source": [
    "One final question I had, how much money did Mike Bloomberg spend per vote he received? Something to note about this dollar value is it is an overall total for overall votes. The vote total was taken from Wikipedia; as the election moves on, his name will be on any ballot he in the states he filed for, so this total could change. Also, it should be noted he is continuing to spend money in order to help fund the Democratic race, so eventually this number will be incorrect."
   ]
  },
  {
   "cell_type": "code",
   "execution_count": null,
   "metadata": {},
   "outputs": [],
   "source": [
    "# interested in how much Bloomberg spent, overall, per vote\n",
    "bloom_votes = 2444596/1000000\n",
    "bloom_spent = billionares['rounded_net_receipts'][2]\n",
    "bloom_vote_cost = bloom_spent/bloom_votes\n",
    "round(bloom_vote_cost, 2)"
   ]
  },
  {
   "cell_type": "markdown",
   "metadata": {},
   "source": [
    "We see that for each vote he recieved, Mike Bloomberg spent a total of \\$429.27."
=======
    "The plot of the above data shows the stark contrast of funds gathered between Donald Trump and the candidates who filed to challenge him for the Republican nomination."
>>>>>>> 0835fc92c9b0fdaa919a5c83232963a2ea6053ed
   ]
  },
  {
   "cell_type": "markdown",
   "metadata": {},
   "source": [
    "## Part II: Voter Turnout Per State in the 2016 Presidential Election\n",
    "#### Megan Chang"
   ]
  },
  {
   "cell_type": "markdown",
   "metadata": {},
   "source": [
    "Now that we've seen how much each party rasied, what were the results of their fundraising on a state level? We know the overall result of the election; however we also know the result was contentious. How did the most populous states vote? Did the vote follow along specific regions, as we may assume?"
   ]
  },
  {
   "cell_type": "code",
   "execution_count": null,
   "metadata": {},
   "outputs": [],
   "source": [
    "data = pd.read_csv(\"Megan/1976-2016-president.csv\")\n",
    "\n",
    "data.head()"
   ]
  },
  {
   "cell_type": "code",
   "execution_count": null,
   "metadata": {},
   "outputs": [],
   "source": [
    "data = data.drop(['state_po', 'state_fips', 'state_cen', 'state_ic',\n",
    "                 'office', 'party', 'writein', 'totalvotes',\n",
    "                 'version', 'notes'], axis=1)\n",
    "data"
   ]
  },
  {
   "cell_type": "code",
   "execution_count": null,
   "metadata": {},
   "outputs": [],
   "source": [
    "data = data.loc[data['year'] == 2016]\n",
    "data"
   ]
  },
  {
   "cell_type": "code",
   "execution_count": null,
   "metadata": {},
   "outputs": [],
   "source": [
    "data.loc[data['candidate'] == 'Trump, Donald J.', 'Candidate'] = 'Trump'\n",
    "data.loc[data['candidate'] == 'Clinton, Hillary', 'Candidate'] = 'Clinton'\n",
    "data.loc[(data['candidate'] != 'Trump, Donald J.') & (data['candidate'] != 'Clinton, Hillary'), 'Candidate'] = 'Independent'\n",
    "data"
   ]
  },
  {
   "cell_type": "code",
   "execution_count": null,
   "metadata": {},
   "outputs": [],
   "source": [
    "new_df = data.groupby(['state','Candidate'])['candidatevotes'].sum().unstack()\n",
    "fig = new_df.plot(kind='bar', stacked=True, figsize=(20,10), color=['blue', 'yellow', 'red'], \n",
    "                  title = '2016 Presidential Votes Per Candidate by State')\n",
    "plt.pyplot.title('2016 Presidential Votes Per Candidate by State')\n",
    "plt.pyplot.xlabel('Votes Per Candidate')\n",
    "plt.pyplot.ylabel('Votes Per State (per 10 million)')\n",
    "plt.pyplot.savefig('plot.png')\n",
    "##plt.show()"
   ]
  },
  {
   "cell_type": "markdown",
   "metadata": {},
   "source": [
    "The plot above shows the number of votes each candidate received in the 2016 election by state (including Washington, DC). We can see that Hillary Clinton took the majority of votes in some of the more populous states such as California, New York, and Illinois. In addition, we see that Independent candidates did fairly well in California as well, though in the smaller populated states Independents did not do as well. \n",
    "\n",
    "We see Trump took the majority of votes in Southern States, as is expected in national elections. We also see key states in the Electoral College such as Ohio going for Trump as well, which played the key reason for his victory. We see, though, the range of votes between Clinton and Trump is narrow in many of these states, such as the afformentioned Ohio results, and results from Pennsylvania and even Georgia."
   ]
  },
  {
   "cell_type": "markdown",
   "metadata": {},
   "source": [
    "# Part III: A Look At Rounded Net Receipts By State"
   ]
  },
  {
   "cell_type": "markdown",
   "metadata": {},
   "source": [
    "Nicholas Prentkowski"
   ]
  },
  {
   "cell_type": "markdown",
   "metadata": {},
   "source": [
    "Is there a discrepancy between states when it comes to the amount of money contributed by inviduals and formal instituions to presidential candidates? I followed the money spent by Democractic and Repubican candidate's advocates to get answer this question. Additionally, I took it a step further by creating two specific bar plots with a honed focus. The first sheds light on the question everyone is asking themselves: \"Which states did Donald Trump's contributions come from and how much came from each state individually to help fund his campaign to victory during the 2016 general election?\" Moreover, I answered the same question about contributions made to Hillary Clinton during her historic attempt to realize the coveted priviledge to call 1600 Pennsylvania Avenue home. "
   ]
  },
  {
   "cell_type": "code",
   "execution_count": null,
   "metadata": {},
   "outputs": [],
   "source": [
    "# Create a data frame out of the data from the csv \n",
    "presidential_votes_df = pd.DataFrame(presidential_votes_data)"
   ]
  },
  {
   "cell_type": "code",
   "execution_count": null,
   "metadata": {},
   "outputs": [],
   "source": [
    "# Show new data frame\n",
    "presidential_votes_df"
   ]
  },
  {
   "cell_type": "code",
   "execution_count": null,
   "metadata": {},
   "outputs": [],
   "source": [
    "# Make a list of the initials of all 50 states\n",
    "state_list = [\"AL\", \"AK\",\"AZ\",\"AR\",\"CA\",\"CO\",\"CT\",\"DE\",\"FL\",\"GA\",\"HI\",\"ID\",\"IL\",\"IN\",\"IA\",\"KS\",\"KY\",\"LA\",\"ME\",\"MD\",\"MA\",\"MI\",\n",
    "              \"MN\",\"MS\",\"MO\",\"MT\",\"NE\",\"NV\",\"NH\",\"NJ\",\"NM\",\"NY\",\"NC\",\"ND\",\"OH\",\"OK\",\"OR\",\"PA\",\"RI\",\"SC\",\"SD\",\"TN\",\"TX\",\n",
    "             \"UT\",\"VT\",\"VA\",\"WA\",\"WV\",\"WI\",\"WY\"]"
   ]
  },
  {
   "cell_type": "code",
   "execution_count": null,
   "metadata": {},
   "outputs": [],
   "source": [
    "# Use isin function to extract data only pertaining to 50 states and create new df\n",
    "pres_finance_states=pres_finance[\"contributor_state\"].isin(state_list)\n",
    "pres_finance[pres_finance_states]\n",
    "states_df = pd.DataFrame(pres_finance[pres_finance_states])"
   ]
  },
  {
   "cell_type": "code",
   "execution_count": null,
   "metadata": {},
   "outputs": [],
   "source": [
    "# Show new df\n",
    "states_df"
   ]
  },
  {
   "cell_type": "code",
   "execution_count": null,
   "metadata": {},
   "outputs": [],
   "source": [
    "# Use groupby function to group the contributor states and the count function to count the rounded net receipts\n",
    "states_receipts = states_df.groupby(\"contributor_state\").count()[\"rounded_net_receipts\"]\n",
    "\n",
    "# Create a new df for the bar plot\n",
    "pyplot_bar_United_States = pd.DataFrame(states_receipts)\n",
    "\n",
    "# Create bar plot using plot function and establishing bar. Widen plot. Increase font size for easier viewing.\n",
    "# Label x and y-axis. Give plot a title and export the visual\n",
    "also = pyplot_bar_United_States.plot(kind='bar', stacked=True, figsize=(20,10), fontsize=18)\n",
    "also\n",
    "plt.xlabel(\"United States (initials)\")\n",
    "plt.ylabel(\"Rounded Net Receipts ($mil)\")\n",
    "plt.title(\"Rounded Net Receipts Per State\")\n",
    "plt.savefig(\"output/pyplot_bar_United_States\")\n"
   ]
  },
  {
   "cell_type": "code",
   "execution_count": null,
   "metadata": {},
   "outputs": [],
   "source": [
    "# Combine the presidential_votes_df and states_df\n",
    "combined_df = pd.merge(presidential_votes_df,states_df, on=(\"contributor_state\"))\n",
    "\n",
    "# Show new df\n",
    "combined_df"
   ]
  },
  {
   "cell_type": "code",
   "execution_count": null,
   "metadata": {},
   "outputs": [],
   "source": [
    "# Use loc function to extract data pertaining to Clinton\n",
    "total_clinton = combined_df.loc[combined_df['candidate']==\"Clinton, Hillary\"]\n",
    "\n",
    "# show df\n",
    "total_clinton"
   ]
  },
  {
   "cell_type": "code",
   "execution_count": null,
   "metadata": {},
   "outputs": [],
   "source": [
    "# Use group by function to group by contributor state and use count function to sum rounded net receipts\n",
    "clinton_df = total_clinton.groupby(\"contributor_state\").count()[\"rounded_net_receipts\"]\n",
    "# Create new df with the data derived from the code above\n",
    "pyplot_bar_clinton = pd.DataFrame(clinton_df)\n",
    "\n",
    "# Use plot function and specify bar to create a bar plot. Make visual wider, increase font size and make blue more vibrant\n",
    "# Label x and y-axis. Give plot a title. Use savefig to export and save the visual\n",
    "also = pyplot_bar_clinton.plot(kind='bar', stacked=True, figsize=(20,10), fontsize=18, color = \"b\")\n",
    "also\n",
    "plt.xlabel(\"United States (initials)\")\n",
    "plt.ylabel(\"Rounded Net Receipts ($mil)\")\n",
    "plt.title(\"Clinton's Rounded Net Receipts Per State\")\n",
    "plt.savefig(\"output/pyplot_bar_clinton_net_receipts_per_state\")"
   ]
  },
  {
   "cell_type": "code",
   "execution_count": null,
   "metadata": {},
   "outputs": [],
   "source": [
    "# Use loc function to extract data pertaining to Trump\n",
    "total_trump = combined_df.loc[combined_df['candidate']==\"Trump, Donald J.\"]\n",
    "\n",
    "# Show data \n",
    "total_trump"
   ]
  },
  {
   "cell_type": "code",
   "execution_count": null,
   "metadata": {},
   "outputs": [],
   "source": [
    "# Use groupby to groupby function contributor state and use count function to sum rounded net receipts \n",
    "trump_df = total_trump.groupby(\"contributor_state\").count()[\"rounded_net_receipts\"]\n",
    "# Create a new df\n",
    "pyplot_bar_trump = pd.DataFrame(trump_df)\n",
    "\n",
    "# USe plot function and specify bar to create a bar plot. Increase width of visual. Inrease font and make bars vibrant red\n",
    "# Label x and y-axis. Give plot a tite. Save and export file using savefig function\n",
    "also = pyplot_bar_trump.plot(kind='bar', stacked=True, figsize=(20,10), fontsize=18, color = \"r\")\n",
    "also\n",
    "plt.xlabel(\"United States (initials)\")\n",
    "plt.ylabel(\"Rounded Net Receipts ($mil)\")\n",
    "plt.title(\"Trump's Rounded Net Receipts Per State\")\n",
    "plt.savefig(\"output/pyplot_bar_trump_net_receipts_per_state\")"
   ]
  }
 ],
 "metadata": {
  "kernelspec": {
   "display_name": "Python 3",
   "language": "python",
   "name": "python3"
  },
  "language_info": {
   "codemirror_mode": {
    "name": "ipython",
    "version": 3
   },
   "file_extension": ".py",
   "mimetype": "text/x-python",
   "name": "python",
   "nbconvert_exporter": "python",
   "pygments_lexer": "ipython3",
   "version": "3.6.10"
  }
 },
 "nbformat": 4,
 "nbformat_minor": 4
}
