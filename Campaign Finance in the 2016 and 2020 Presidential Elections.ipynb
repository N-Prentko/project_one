{
 "cells": [
  {
   "cell_type": "markdown",
   "metadata": {},
   "source": [
    "# Campaign Finances in the 2016 and 2020 Presidential Elections\n",
    "## Megan Chang, Dan Edie, and Nick Prentkowski"
   ]
  },
  {
   "cell_type": "markdown",
   "metadata": {},
   "source": [
    "It is no secret that the cost of running for the office of President of the United States has increased over the past few election cylces. But how much? Are the most populous states contributing the most money? Our group used the Federal Election Commission's API in order to pull data on campaign receipts, as well as the number of votes each candidate received stored in MIT's Election Lab database. We found that current election has already raised about twice as much as the previous election, though that is due to contributions by two specific candidates on the Democratic ticket."
   ]
  },
  {
   "attachments": {},
   "cell_type": "markdown",
   "metadata": {},
   "source": [
    "## What Has Been the Trend in Net Receipts During the Past Two Presidential Campaigns?"
   ]
  },
  {
   "cell_type": "code",
   "execution_count": null,
   "metadata": {},
   "outputs": [],
   "source": []
  }
 ],
 "metadata": {
  "kernelspec": {
   "display_name": "Python 3",
   "language": "python",
   "name": "python3"
  },
  "language_info": {
   "codemirror_mode": {
    "name": "ipython",
    "version": 3
   },
   "file_extension": ".py",
   "mimetype": "text/x-python",
   "name": "python",
   "nbconvert_exporter": "python",
   "pygments_lexer": "ipython3",
   "version": "3.6.10"
  }
 },
 "nbformat": 4,
 "nbformat_minor": 4
}
